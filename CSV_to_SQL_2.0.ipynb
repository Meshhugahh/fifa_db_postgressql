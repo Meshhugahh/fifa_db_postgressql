{
 "cells": [
  {
   "cell_type": "code",
   "execution_count": 36,
   "metadata": {},
   "outputs": [],
   "source": [
    "# importing relevant libraries:"
   ]
  },
  {
   "cell_type": "code",
   "execution_count": 37,
   "metadata": {},
   "outputs": [],
   "source": [
    "import pandas as pd\n",
    "from sqlalchemy import create_engine\n",
    "from sqlalchemy.ext.declarative import declarative_base\n",
    "from sqlalchemy import Table, Column, Integer, String\n",
    "from sqlalchemy import MetaData"
   ]
  },
  {
   "cell_type": "code",
   "execution_count": 38,
   "metadata": {},
   "outputs": [],
   "source": [
    "# connecting to postgres db with sqlalchemy.create_engine:"
   ]
  },
  {
   "cell_type": "code",
   "execution_count": 39,
   "metadata": {},
   "outputs": [],
   "source": [
    "engine = create_engine('postgresql://:@:/')"
   ]
  },
  {
   "cell_type": "code",
   "execution_count": 40,
   "metadata": {},
   "outputs": [],
   "source": [
    "# reading .csv file to pandas.DataFrame, \n",
    "# performing initial data cleansing, \n",
    "# and loading data to db with DataFrame.to_sql:  "
   ]
  },
  {
   "cell_type": "code",
   "execution_count": null,
   "metadata": {},
   "outputs": [],
   "source": [
    "with open('fifa_data_2.csv', 'r', encoding=\"utf8\") as file:\n",
    "    df = pd.read_csv(file, index_col='ID')\n",
    "df.columns = df.columns.str.lower()\n",
    "df.rename(columns={\"club logo\":\"club_logo\", \"value\":\"valueM€\"}, inplace = True)\n",
    "df.dropna(inplace = True)\n",
    "df['valueM€'] = df['valueM€'].str[1:-1]\n",
    "df.to_sql(name = 'fifa_data', con = engine, if_exists = 'replace', index_label = 'ID')"
   ]
  },
  {
   "cell_type": "code",
   "execution_count": null,
   "metadata": {},
   "outputs": [],
   "source": [
    "df.head()"
   ]
  },
  {
   "cell_type": "code",
   "execution_count": null,
   "metadata": {},
   "outputs": [],
   "source": [
    "# creating 2 db tables for further normalization of data with 'declarative_base' object from SQLAlchemy’s ORM\n",
    "# creating columns as attributes to each class:"
   ]
  },
  {
   "cell_type": "code",
   "execution_count": null,
   "metadata": {},
   "outputs": [],
   "source": [
    "Base = declarative_base()  "
   ]
  },
  {
   "cell_type": "code",
   "execution_count": null,
   "metadata": {},
   "outputs": [],
   "source": [
    "class Nationality(Base):\n",
    "    __tablename__ = 'nationality_info'\n",
    "    __table_args__ = {'extend_existing': True}\n",
    "    \n",
    "    nationality = Column(String, primary_key = True)\n",
    "    flag = Column(String)\n",
    "    \n",
    "    def __repr__(self):\n",
    "        return f'Nationality {self.name}'\n",
    "    \n",
    "class Club(Base):\n",
    "    __tablename__ = 'club_info'\n",
    "    __table_args__ = {'extend_existing': True}\n",
    "    \n",
    "    club = Column(String, primary_key = True)\n",
    "    club_logo = Column(String)\n",
    "    \n",
    "    def __repr__(self):\n",
    "        return f'Club {self.name}'\n",
    "    \n",
    "Base.metadata.create_all(engine)"
   ]
  },
  {
   "cell_type": "code",
   "execution_count": null,
   "metadata": {},
   "outputs": [],
   "source": [
    "# previewing table names:"
   ]
  },
  {
   "cell_type": "code",
   "execution_count": null,
   "metadata": {},
   "outputs": [],
   "source": [
    "engine.table_names()"
   ]
  },
  {
   "cell_type": "code",
   "execution_count": null,
   "metadata": {},
   "outputs": [],
   "source": [
    "# inserting distinct data for each column from parent table to \"child\" tables:"
   ]
  },
  {
   "cell_type": "code",
   "execution_count": null,
   "metadata": {},
   "outputs": [],
   "source": [
    "engine.execute(\"\"\"\n",
    "                INSERT INTO nationality_info\n",
    "                SELECT DISTINCT nationality, flag\n",
    "                FROM fifa_data;\n",
    "                \n",
    "                INSERT INTO club_info\n",
    "                SELECT DISTINCT club, club_logo\n",
    "                FROM fifa_data;\"\"\")"
   ]
  },
  {
   "cell_type": "code",
   "execution_count": null,
   "metadata": {},
   "outputs": [],
   "source": [
    "# creating primary key <-> foreign key relations:"
   ]
  },
  {
   "cell_type": "code",
   "execution_count": null,
   "metadata": {},
   "outputs": [],
   "source": [
    "engine.execute(\"\"\"\n",
    "                ALTER TABLE fifa_data\n",
    "                ADD CONSTRAINT f_k_fifa_nat FOREIGN KEY (nationality) REFERENCES nationality_info(nationality);\n",
    "                \n",
    "                ALTER TABLE fifa_data\n",
    "                ADD CONSTRAINT f_k_fifa_club FOREIGN KEY (club) REFERENCES club_info(club);\"\"\")"
   ]
  },
  {
   "cell_type": "code",
   "execution_count": null,
   "metadata": {},
   "outputs": [],
   "source": [
    "# cleaning columns from parent table:"
   ]
  },
  {
   "cell_type": "code",
   "execution_count": null,
   "metadata": {},
   "outputs": [],
   "source": [
    "engine.execute(\"\"\"\n",
    "                ALTER TABLE fifa_data\n",
    "                DROP COLUMN flag;\n",
    "                \n",
    "                ALTER TABLE fifa_data\n",
    "                DROP COLUMN club_logo; \"\"\")"
   ]
  },
  {
   "cell_type": "code",
   "execution_count": null,
   "metadata": {},
   "outputs": [],
   "source": [
    "# previewing whole data with information_schema:"
   ]
  },
  {
   "cell_type": "code",
   "execution_count": null,
   "metadata": {},
   "outputs": [],
   "source": [
    "engine.execute(\"\"\"\n",
    "                SELECT table_name, column_name, data_type\n",
    "                FROM information_schema.columns\n",
    "                WHERE table_name = 'fifa_data'\n",
    "                OR table_name = 'club_info'\n",
    "                OR table_name = 'nationality_info';\"\"\").fetchall()"
   ]
  },
  {
   "cell_type": "code",
   "execution_count": null,
   "metadata": {},
   "outputs": [],
   "source": [
    "# performing some quering:"
   ]
  },
  {
   "cell_type": "code",
   "execution_count": null,
   "metadata": {},
   "outputs": [],
   "source": [
    "engine.execute(\"\"\"\n",
    "                SELECT name, age, club, club_logo\n",
    "                FROM fifa_data\n",
    "                INNER JOIN club_info\n",
    "                USING (club)\n",
    "                WHERE age > 30\n",
    "                ORDER BY age DESC\n",
    "                LIMIT 10 \"\"\").fetchall()"
   ]
  },
  {
   "cell_type": "code",
   "execution_count": null,
   "metadata": {},
   "outputs": [],
   "source": [
    "engine.execute(\"\"\"\n",
    "                SELECT AVG(potential) AS avg_potential, club\n",
    "                FROM fifa_data\n",
    "                GROUP BY club\n",
    "                ORDER BY avg_potential DESC\n",
    "                LIMIT 10;\"\"\").fetchall()"
   ]
  },
  {
   "cell_type": "code",
   "execution_count": null,
   "metadata": {},
   "outputs": [],
   "source": [
    "# creating a db view, for other users:"
   ]
  },
  {
   "cell_type": "code",
   "execution_count": null,
   "metadata": {},
   "outputs": [],
   "source": [
    "engine.execute(\"\"\"\n",
    "                CREATE VIEW mancity AS\n",
    "                \n",
    "                SELECT *\n",
    "                FROM fifa_data\n",
    "                INNER JOIN club_info\n",
    "                USING(club)\n",
    "                WHERE club = 'Manchester City';\"\"\")"
   ]
  },
  {
   "cell_type": "code",
   "execution_count": null,
   "metadata": {},
   "outputs": [],
   "source": [
    "# creating roles, and granting access to view for other users:"
   ]
  },
  {
   "cell_type": "code",
   "execution_count": 35,
   "metadata": {},
   "outputs": [
    {
     "data": {
      "text/plain": [
       "<sqlalchemy.engine.result.ResultProxy at 0x16217257108>"
      ]
     },
     "execution_count": 35,
     "metadata": {},
     "output_type": "execute_result"
    }
   ],
   "source": [
    "engine.execute(\"\"\"\n",
    "                CREATE ROLE mancity_marketing;\n",
    "                \n",
    "                CREATE ROLE mancity_marketing_inter WITH PASSWORD 'change_me' VALID UNTIL '2020-12-31';\n",
    "                \n",
    "                GRANT mancity_marketing TO mancity_marketing_inter;\n",
    "                \n",
    "                GRANT UPDATE, INSERT, UPDATE, DELETE ON mancity TO mancity_marketing;\"\"\")"
   ]
  }
 ],
 "metadata": {
  "kernelspec": {
   "display_name": "Python 3",
   "language": "python",
   "name": "python3"
  },
  "language_info": {
   "codemirror_mode": {
    "name": "ipython",
    "version": 3
   },
   "file_extension": ".py",
   "mimetype": "text/x-python",
   "name": "python",
   "nbconvert_exporter": "python",
   "pygments_lexer": "ipython3",
   "version": "3.7.4"
  }
 },
 "nbformat": 4,
 "nbformat_minor": 2
}
